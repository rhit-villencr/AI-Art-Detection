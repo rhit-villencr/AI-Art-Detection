{
 "cells": [
  {
   "cell_type": "code",
   "execution_count": 6,
   "id": "391e0219-1502-4a58-bb3a-8367a440dff1",
   "metadata": {},
   "outputs": [
    {
     "name": "stdout",
     "output_type": "stream",
     "text": [
      "Simple classifier in Real_AI_Dataset/train guessing based on ['romanticism']: 10.251%\n",
      "Simple classifier in Real_AI_Dataset/train guessing based on ['romanticism', 'ai']: 7.026%\n",
      "Simple classifier in Real_AI_Dataset/train guessing based on ['ai']: 70.971%\n"
     ]
    }
   ],
   "source": [
    "import os\n",
    "from torchvision import datasets\n",
    "from torchvision.transforms import ToTensor\n",
    "\n",
    "train_img_dir1 = \"Real_AI_Dataset/train\"\n",
    "\n",
    "def SimpleClassifier(image_dir, guesses):\n",
    "    dataset = datasets.ImageFolder(\n",
    "        root=image_dir, \n",
    "        transform=ToTensor()\n",
    "    )\n",
    "    good = 0\n",
    "    total = len(dataset.imgs)\n",
    "    for path, _ in dataset.imgs:\n",
    "        folder = path.lower().split('/')[2]\n",
    "        if all(guess in folder for guess in guesses):\n",
    "            good += 1\n",
    "    print(f\"Simple classifier in {image_dir} guessing based on {guesses}: {good/total * 100:.3f}%\")\n",
    "\n",
    "SimpleClassifier(train_img_dir1, [\"romanticism\"])\n",
    "SimpleClassifier(train_img_dir1, [\"romanticism\", \"ai\"])\n",
    "SimpleClassifier(train_img_dir1, [\"ai\"])"
   ]
  },
  {
   "cell_type": "code",
   "execution_count": null,
   "id": "2c56d4cc-8a68-43b4-86a3-152f6021004b",
   "metadata": {},
   "outputs": [],
   "source": []
  }
 ],
 "metadata": {
  "kernelspec": {
   "display_name": "Python (anaconda_env)",
   "language": "python",
   "name": "anaconda-env"
  },
  "language_info": {
   "codemirror_mode": {
    "name": "ipython",
    "version": 3
   },
   "file_extension": ".py",
   "mimetype": "text/x-python",
   "name": "python",
   "nbconvert_exporter": "python",
   "pygments_lexer": "ipython3",
   "version": "3.11.10"
  }
 },
 "nbformat": 4,
 "nbformat_minor": 5
}

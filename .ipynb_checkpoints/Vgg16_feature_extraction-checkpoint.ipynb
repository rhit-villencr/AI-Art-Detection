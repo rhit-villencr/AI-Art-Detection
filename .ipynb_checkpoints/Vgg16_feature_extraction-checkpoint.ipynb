{
 "cells": [
  {
   "cell_type": "markdown",
   "metadata": {},
   "source": [
    "# Example of VGG16 in use to extract features and targets\n",
    "may need some modifications"
   ]
  },
  {
   "cell_type": "code",
   "execution_count": 1,
   "metadata": {},
   "outputs": [],
   "source": [
    "import torch\n",
    "import numpy as np\n",
    "import torchvision.models as models\n",
    "import torchvision.transforms as transforms\n",
    "from PIL import Image\n",
    "import os\n",
    "from sklearn.model_selection import train_test_split\n",
    "from sklearn.linear_model import LogisticRegressionCV  # Logistic Regression with cross-validation\n",
    "from time import time  # For measuring performance time"
   ]
  },
  {
   "cell_type": "code",
   "execution_count": null,
   "metadata": {},
   "outputs": [],
   "source": [
    "# Load the pretrained VGG16 model, without the classifier layers\n",
    "model = models.vgg16(pretrained=True)\n",
    "model.classifier = torch.nn.Identity()  # Replace classifier with identity to get features\n",
    "model.eval()  # Set the model to evaluation mode (no gradients needed)"
   ]
  },
  {
   "cell_type": "code",
   "execution_count": 7,
   "metadata": {},
   "outputs": [],
   "source": [
    "# Transformation for the images (resize, normalization, etc.)\n",
    "# from Lenet.ipynb\n",
    "img_size = 32\n",
    "batch_size = 512\n",
    "\n",
    "transform = transforms.Compose([\n",
    "    transforms.Resize((img_size, img_size)), # Resizing to 28x28 pixels as in the original MNIST format\n",
    "    transforms.ToTensor(),         # Convert image to tensor\n",
    "    transforms.Normalize(          # Normalize with ImageNet mean and std\n",
    "        mean=[0.485, 0.456, 0.406],\n",
    "        std=[0.229, 0.224, 0.225]\n",
    "    ),\n",
    "])"
   ]
  },
  {
   "cell_type": "code",
   "execution_count": 4,
   "metadata": {},
   "outputs": [],
   "source": [
    "def extract_features(img_path, model):\n",
    "    \"\"\"Extract features from a single image file using the VGG16 model.\"\"\"\n",
    "    # Load and preprocess the image\n",
    "    img = Image.open(img_path).convert('RGB')  # Ensure it's RGB\n",
    "    img = transform(img)\n",
    "    img = img.unsqueeze(0)  # Add a batch dimension\n",
    "\n",
    "    # Extract features\n",
    "    with torch.no_grad():  # Disable gradient calculation\n",
    "        features = model(img)\n",
    "    return features.flatten().numpy()  # Convert to 1D array"
   ]
  },
  {
   "cell_type": "code",
   "execution_count": null,
   "metadata": {},
   "outputs": [],
   "source": [
    "# if we have a directory of all the images with different subfolders of the different categories\n",
    "def process_image_directory(dataset_path, model):\n",
    "    \"\"\"\n",
    "    Process all images in a dataset directory where each class is in a separate subfolder.\n",
    "    Extract features for each image and store the label as well.\n",
    "    \"\"\"\n",
    "    features = []\n",
    "    labels = []\n",
    "    class_names = os.listdir(dataset_path)  # Each subfolder is a class name\n",
    "\n",
    "    for label, class_name in enumerate(class_names):\n",
    "        class_folder = os.path.join(dataset_path, class_name)\n",
    "        if not os.path.isdir(class_folder):  # Skip non-folder files\n",
    "            continue\n",
    "\n",
    "        for img_file in os.listdir(class_folder):\n",
    "            img_path = os.path.join(class_folder, img_file)\n",
    "            if img_file.lower().endswith(('.png', '.jpg', '.jpeg')):  # Only process image files\n",
    "                img_features = extract_features(img_path, model)\n",
    "                features.append(img_features)\n",
    "                labels.append(label)  # Store class label as integer\n",
    "\n",
    "    return np.array(features), np.array(labels), class_names"
   ]
  },
  {
   "cell_type": "code",
   "execution_count": null,
   "metadata": {},
   "outputs": [],
   "source": [
    "# Main code block to load data, extract features, and save them\n",
    "dataset_path = 'Data_Sets\\Images'  # TODO: Replace with images directory\n",
    "features, labels, class_names = process_image_directory(dataset_path, model)\n",
    "print(\"Features shape: \", features.shape)\n",
    "print(\"First feature vector (first 10 indicies):\", features[0][10])\n",
    "\n",
    "# Prints first 5 lines\n",
    "print(features[:5])"
   ]
  }
 ],
 "metadata": {
  "kernelspec": {
   "display_name": "my_environment2",
   "language": "python",
   "name": "python3"
  },
  "language_info": {
   "codemirror_mode": {
    "name": "ipython",
    "version": 3
   },
   "file_extension": ".py",
   "mimetype": "text/x-python",
   "name": "python",
   "nbconvert_exporter": "python",
   "pygments_lexer": "ipython3",
   "version": "3.12.7"
  }
 },
 "nbformat": 4,
 "nbformat_minor": 2
}

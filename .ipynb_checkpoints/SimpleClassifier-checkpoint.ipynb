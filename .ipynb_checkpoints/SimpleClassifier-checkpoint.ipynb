{
 "cells": [
  {
   "cell_type": "code",
   "execution_count": 1,
   "id": "391e0219-1502-4a58-bb3a-8367a440dff1",
   "metadata": {},
   "outputs": [],
   "source": [
    "# Import all necessary packages\n",
    "import os\n",
    "from torchvision import datasets\n",
    "from torchvision.transforms import ToTensor"
   ]
  },
  {
   "cell_type": "code",
   "execution_count": 5,
   "id": "2c56d4cc-8a68-43b4-86a3-152f6021004b",
   "metadata": {},
   "outputs": [],
   "source": [
    "def SimpleClassifier(image_dir, guesses):\n",
    "    # Load the dataset using ImageFolder with a basic transformation (convert to tensor).\n",
    "    dataset = datasets.ImageFolder(\n",
    "        root=image_dir, \n",
    "        transform=ToTensor()\n",
    "    )\n",
    "    \n",
    "    # Initialize counters for correct guesses and total images.\n",
    "    good = 0\n",
    "    total = len(dataset.imgs)\n",
    "    \n",
    "    # Iterate over the dataset's image paths and corresponding labels.\n",
    "    for path, _ in dataset.imgs:\n",
    "        # Extract the folder name from the image path, converted to lowercase.\n",
    "        folder = path.lower().split('/')[2]\n",
    "        \n",
    "        # Check if all keywords in `guesses` are found in the folder name.\n",
    "        if all(guess in folder for guess in guesses):\n",
    "            good += 1  # Increment the correct guess counter.\n",
    "    \n",
    "    # Calculate and print the percentage of correct classifications.\n",
    "    print(f\"Simple classifier in {image_dir} guessing based on {guesses}: {good/total * 100:.3f}%\")"
   ]
  },
  {
   "cell_type": "code",
   "execution_count": 7,
   "id": "5f443dbb-c455-427b-a662-d623ea9f9776",
   "metadata": {},
   "outputs": [
    {
     "name": "stdout",
     "output_type": "stream",
     "text": [
      "Simple classifier in Datasets/AI_And_Classes guessing based on ['romanticism']: 10.211%\n",
      "Simple classifier in Datasets/AI_And_Classes guessing based on ['romanticism', 'ai']: 6.968%\n",
      "Simple classifier in Datasets/No_AI guessing based on ['impressionism']: 24.797%\n"
     ]
    }
   ],
   "source": [
    "# Testing Simple Classifier\n",
    "train_img_dir = \"Datasets/AI_And_Classes\"\n",
    "SimpleClassifier(train_img_dir, [\"romanticism\"])\n",
    "SimpleClassifier(train_img_dir, [\"romanticism\", \"ai\"])\n",
    "\n",
    "# New Dataset\n",
    "train_img_dir = \"Datasets/No_AI\"\n",
    "SimpleClassifier(train_img_dir, [\"impressionism\"])"
   ]
  },
  {
   "cell_type": "code",
   "execution_count": null,
   "id": "048274d0-3495-4134-8503-6e2154aee1f6",
   "metadata": {},
   "outputs": [],
   "source": []
  }
 ],
 "metadata": {
  "kernelspec": {
   "display_name": "anaconda_env",
   "language": "python",
   "name": "anaconda_env"
  },
  "language_info": {
   "codemirror_mode": {
    "name": "ipython",
    "version": 3
   },
   "file_extension": ".py",
   "mimetype": "text/x-python",
   "name": "python",
   "nbconvert_exporter": "python",
   "pygments_lexer": "ipython3",
   "version": "3.11.10"
  }
 },
 "nbformat": 4,
 "nbformat_minor": 5
}

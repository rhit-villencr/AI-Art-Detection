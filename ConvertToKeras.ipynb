{
 "cells": [
  {
   "cell_type": "code",
   "execution_count": 12,
   "id": "97eee574-08c3-4374-bcdc-0b019d7bde01",
   "metadata": {},
   "outputs": [
    {
     "name": "stdout",
     "output_type": "stream",
     "text": [
      "Exported graph: graph(%input : Float(1, 2048, strides=[2048, 1], requires_grad=0, device=cpu),\n",
      "      %fc1.weight : Float(2048, 2048, strides=[2048, 1], requires_grad=1, device=cpu),\n",
      "      %fc1.bias : Float(2048, strides=[1], requires_grad=1, device=cpu),\n",
      "      %fc2.weight : Float(128, 2048, strides=[2048, 1], requires_grad=1, device=cpu),\n",
      "      %fc2.bias : Float(128, strides=[1], requires_grad=1, device=cpu),\n",
      "      %outputLayer.weight : Float(20, 128, strides=[128, 1], requires_grad=1, device=cpu),\n",
      "      %outputLayer.bias : Float(20, strides=[1], requires_grad=1, device=cpu)):\n",
      "  %/Constant_output_0 : Long(2, strides=[1], device=cpu) = onnx::Constant[value=   -1  2048 [ CPULongType{2} ], onnx_name=\"/Constant\"](), scope: __main__.NeuralNet:: # /tmp/ipykernel_3560254/343124900.py:16:0\n",
      "  %/Reshape_output_0 : Float(1, 2048, strides=[2048, 1], requires_grad=0, device=cpu) = onnx::Reshape[allowzero=0, onnx_name=\"/Reshape\"](%input, %/Constant_output_0), scope: __main__.NeuralNet:: # /tmp/ipykernel_3560254/343124900.py:16:0\n",
      "  %/fc1/Gemm_output_0 : Float(1, 2048, strides=[2048, 1], requires_grad=1, device=cpu) = onnx::Gemm[alpha=1., beta=1., transB=1, onnx_name=\"/fc1/Gemm\"](%/Reshape_output_0, %fc1.weight, %fc1.bias), scope: __main__.NeuralNet::/torch.nn.modules.linear.Linear::fc1 # /home/villencr/.local/lib/python3.11/site-packages/torch/nn/modules/linear.py:125:0\n",
      "  %/relu/Relu_output_0 : Float(1, 2048, strides=[2048, 1], requires_grad=1, device=cpu) = onnx::Relu[onnx_name=\"/relu/Relu\"](%/fc1/Gemm_output_0), scope: __main__.NeuralNet::/torch.nn.modules.activation.ReLU::relu # /home/villencr/.local/lib/python3.11/site-packages/torch/nn/functional.py:1704:0\n",
      "  %/fc2/Gemm_output_0 : Float(1, 128, strides=[128, 1], requires_grad=1, device=cpu) = onnx::Gemm[alpha=1., beta=1., transB=1, onnx_name=\"/fc2/Gemm\"](%/relu/Relu_output_0, %fc2.weight, %fc2.bias), scope: __main__.NeuralNet::/torch.nn.modules.linear.Linear::fc2 # /home/villencr/.local/lib/python3.11/site-packages/torch/nn/modules/linear.py:125:0\n",
      "  %/relu_1/Relu_output_0 : Float(1, 128, strides=[128, 1], requires_grad=1, device=cpu) = onnx::Relu[onnx_name=\"/relu_1/Relu\"](%/fc2/Gemm_output_0), scope: __main__.NeuralNet::/torch.nn.modules.activation.ReLU::relu # /home/villencr/.local/lib/python3.11/site-packages/torch/nn/functional.py:1704:0\n",
      "  %output : Float(1, 20, strides=[20, 1], requires_grad=1, device=cpu) = onnx::Gemm[alpha=1., beta=1., transB=1, onnx_name=\"/outputLayer/Gemm\"](%/relu_1/Relu_output_0, %outputLayer.weight, %outputLayer.bias), scope: __main__.NeuralNet::/torch.nn.modules.linear.Linear::outputLayer # /home/villencr/.local/lib/python3.11/site-packages/torch/nn/modules/linear.py:125:0\n",
      "  return (%output)\n",
      "\n",
      "Model Graph:\n",
      "\n",
      "graph main_graph (\n",
      "  %input[FLOAT, 1x2048]\n",
      ") initializers (\n",
      "  %fc1.weight[FLOAT, 2048x2048]\n",
      "  %fc1.bias[FLOAT, 2048]\n",
      "  %fc2.weight[FLOAT, 128x2048]\n",
      "  %fc2.bias[FLOAT, 128]\n",
      "  %outputLayer.weight[FLOAT, 20x128]\n",
      "  %outputLayer.bias[FLOAT, 20]\n",
      ") {\n",
      "  %/Constant_output_0 = Constant[value = <Tensor>]()\n",
      "  %/Reshape_output_0 = Reshape[allowzero = 0](%input, %/Constant_output_0)\n",
      "  %/fc1/Gemm_output_0 = Gemm[alpha = 1, beta = 1, transB = 1](%/Reshape_output_0, %fc1.weight, %fc1.bias)\n",
      "  %/relu/Relu_output_0 = Relu(%/fc1/Gemm_output_0)\n",
      "  %/fc2/Gemm_output_0 = Gemm[alpha = 1, beta = 1, transB = 1](%/relu/Relu_output_0, %fc2.weight, %fc2.bias)\n",
      "  %/relu_1/Relu_output_0 = Relu(%/fc2/Gemm_output_0)\n",
      "  %output = Gemm[alpha = 1, beta = 1, transB = 1](%/relu_1/Relu_output_0, %outputLayer.weight, %outputLayer.bias)\n",
      "  return %output\n",
      "}\n"
     ]
    },
    {
     "name": "stderr",
     "output_type": "stream",
     "text": [
      "/tmp/ipykernel_3560254/343124900.py:28: FutureWarning: You are using `torch.load` with `weights_only=False` (the current default value), which uses the default pickle module implicitly. It is possible to construct malicious pickle data which will execute arbitrary code during unpickling (See https://github.com/pytorch/pytorch/blob/main/SECURITY.md#untrusted-models for more details). In a future release, the default value for `weights_only` will be flipped to `True`. This limits the functions that could be executed during unpickling. Arbitrary objects will no longer be allowed to be loaded via this mode unless they are explicitly allowlisted by the user via `torch.serialization.add_safe_globals`. We recommend you start setting `weights_only=True` for any use case where you don't have full control of the loaded file. Please open an issue on GitHub for any issues related to this experimental feature.\n",
      "  model.load_state_dict(torch.load(\"model_params.pt\"))\n"
     ]
    }
   ],
   "source": [
    "import torch\n",
    "import torch.nn as nn\n",
    "import onnx\n",
    "\n",
    "# Define the model architecture\n",
    "class NeuralNet(nn.Module):\n",
    "    def __init__(self, input_size, output_size):\n",
    "        super(NeuralNet, self).__init__()\n",
    "        self.input_size = input_size\n",
    "        self.fc1 = nn.Linear(input_size, input_size)\n",
    "        self.fc2 = nn.Linear(input_size, input_size // 16)\n",
    "        self.outputLayer = nn.Linear(input_size // 16, output_size)\n",
    "        self.relu = nn.ReLU()\n",
    "\n",
    "    def forward(self, x):\n",
    "        x = x.view(-1, self.input_size)\n",
    "        x = self.fc1(x)\n",
    "        x = self.relu(x)\n",
    "        x = self.fc2(x)\n",
    "        x = self.relu(x)\n",
    "        x = self.outputLayer(x)\n",
    "        return x\n",
    "\n",
    "# Initialize the model\n",
    "model = NeuralNet(2048, 20)\n",
    "\n",
    "# Load model parameters\n",
    "model.load_state_dict(torch.load(\"model_params.pt\"))\n",
    "\n",
    "# Example input tensor\n",
    "x = torch.randn(1, 2048, requires_grad=False)\n",
    "\n",
    "# Export the model to ONNX\n",
    "torch.onnx.export(model, x, \"torchToOnnx.onnx\", verbose=True, input_names=['input'], output_names=['output'])\n",
    "\n",
    "# Print the ONNX model's graph\n",
    "print('Model Graph:\\n\\n{}'.format(onnx.helper.printable_graph(onnx_model.graph)))\n"
   ]
  },
  {
   "cell_type": "code",
   "execution_count": null,
   "id": "649e770d-3904-4567-8955-e198ba4b8139",
   "metadata": {},
   "outputs": [],
   "source": []
  }
 ],
 "metadata": {
  "kernelspec": {
   "display_name": "anaconda_env",
   "language": "python",
   "name": "anaconda_env"
  },
  "language_info": {
   "codemirror_mode": {
    "name": "ipython",
    "version": 3
   },
   "file_extension": ".py",
   "mimetype": "text/x-python",
   "name": "python",
   "nbconvert_exporter": "python",
   "pygments_lexer": "ipython3",
   "version": "3.11.10"
  }
 },
 "nbformat": 4,
 "nbformat_minor": 5
}

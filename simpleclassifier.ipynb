{
 "cells": [
  {
   "cell_type": "code",
   "execution_count": 1,
   "id": "391e0219-1502-4a58-bb3a-8367a440dff1",
   "metadata": {},
   "outputs": [
    {
     "name": "stdout",
     "output_type": "stream",
     "text": [
      "Simple classifier guessing romanticism every time: 10.251%\n",
      "Simple classifier guessing ai generated romanticism every time: 7.026%\n"
     ]
    }
   ],
   "source": [
    "import os\n",
    "from torchvision import datasets\n",
    "from torchvision.transforms import ToTensor\n",
    "\n",
    "train_img_dir = \"Real_AI_SD_LD_Dataset/train\"\n",
    "test_img_dir = \"Real_AI_SD_LD_Dataset/test\"\n",
    "\n",
    "dataset = datasets.ImageFolder(\n",
    "    root=train_img_dir, \n",
    "    transform=ToTensor()\n",
    ")\n",
    "\n",
    "good = 0\n",
    "total = len(dataset.imgs)\n",
    "for path, _ in dataset.imgs:\n",
    "    folder = path.lower().split('/')[2]\n",
    "    guess = 'romanticism'\n",
    "    if guess in folder:\n",
    "        good += 1\n",
    "print(f\"Simple classifier guessing romanticism every time: {good/total * 100:.3f}%\")\n",
    "\n",
    "good = 0\n",
    "for path, _ in dataset.imgs:\n",
    "    folder = path.lower().split('/')[2]\n",
    "    guess = 'romanticism'\n",
    "    guess2 = 'ai'\n",
    "    if guess in folder and guess2 in folder:\n",
    "        good += 1\n",
    "print(f\"Simple classifier guessing ai generated romanticism every time: {good/total * 100:.3f}%\")"
   ]
  },
  {
   "cell_type": "code",
   "execution_count": null,
   "id": "2c56d4cc-8a68-43b4-86a3-152f6021004b",
   "metadata": {},
   "outputs": [],
   "source": []
  }
 ],
 "metadata": {
  "kernelspec": {
   "display_name": "Python (anaconda_env)",
   "language": "python",
   "name": "anaconda-env"
  },
  "language_info": {
   "codemirror_mode": {
    "name": "ipython",
    "version": 3
   },
   "file_extension": ".py",
   "mimetype": "text/x-python",
   "name": "python",
   "nbconvert_exporter": "python",
   "pygments_lexer": "ipython3",
   "version": "3.11.10"
  }
 },
 "nbformat": 4,
 "nbformat_minor": 5
}

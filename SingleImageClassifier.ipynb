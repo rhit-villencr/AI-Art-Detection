{
 "cells": [
  {
   "cell_type": "code",
   "execution_count": 18,
   "id": "20b10ce9-8895-4b39-a029-4c55c592eb46",
   "metadata": {},
   "outputs": [],
   "source": [
    "import torch\n",
    "import torch.nn as nn\n",
    "import torch.nn.functional as F\n",
    "from torchvision import models, transforms\n",
    "from PIL import Image\n",
    "import numpy as np\n",
    "\n",
    "# MODIFY: Define the classes and vars for prediction\n",
    "classes = [\"Art_Nouveau_Modern\", \"Baroque\", \"Expressionism\", \"Impressionism\", \"Post_Impressionism\", \n",
    "           \"Realism\", \"Renaissance\", \"Romanticism\", \"Symbolism\", \n",
    "           \"Ukiyo_e\"]\n",
    "\n",
    "input_size = 2048\n",
    "num_classes = len(classes)\n",
    "classifier_path = 'model_params.pt'\n",
    "device = 'cpu'\n",
    "topx = 2"
   ]
  },
  {
   "cell_type": "code",
   "execution_count": 19,
   "id": "233b5d76-3707-446d-95d1-5c83fb5ec353",
   "metadata": {},
   "outputs": [],
   "source": [
    "# MODIFY: Neural Net definition\n",
    "class NeuralNet(nn.Module):\n",
    "    def __init__(self):\n",
    "        super(NeuralNet, self).__init__()\n",
    "        self.input_size = input_size\n",
    "        self.fc1=nn.Linear(input_size, input_size*8)\n",
    "        self.fc2=nn.Linear(input_size*8, input_size*2)\n",
    "        self.fc3=nn.Linear(input_size*2, input_size//8)\n",
    "        self.outputLayer=nn.Linear(input_size//8, num_classes)\n",
    "        self.relu=nn.ReLU()\n",
    "\n",
    "    def forward(self, x):\n",
    "        x=x.view(-1, self.input_size)\n",
    "        x=self.fc1(x)\n",
    "        x=self.relu(x)\n",
    "        x=self.fc2(x)\n",
    "        x=self.relu(x)\n",
    "        x=self.fc3(x)\n",
    "        x=self.relu(x)\n",
    "        x=self.outputLayer(x)\n",
    "        return x"
   ]
  },
  {
   "cell_type": "code",
   "execution_count": 20,
   "id": "bb86d057-4694-4e2e-add4-2bb5ef4dc8cc",
   "metadata": {},
   "outputs": [
    {
     "name": "stdout",
     "output_type": "stream",
     "text": [
      "NeuralNet(\n",
      "  (fc1): Linear(in_features=2048, out_features=16384, bias=True)\n",
      "  (fc2): Linear(in_features=16384, out_features=4096, bias=True)\n",
      "  (fc3): Linear(in_features=4096, out_features=256, bias=True)\n",
      "  (outputLayer): Linear(in_features=256, out_features=10, bias=True)\n",
      "  (relu): ReLU()\n",
      ")\n"
     ]
    },
    {
     "data": {
      "text/plain": [
       "NeuralNet(\n",
       "  (fc1): Linear(in_features=2048, out_features=16384, bias=True)\n",
       "  (fc2): Linear(in_features=16384, out_features=4096, bias=True)\n",
       "  (fc3): Linear(in_features=4096, out_features=256, bias=True)\n",
       "  (outputLayer): Linear(in_features=256, out_features=10, bias=True)\n",
       "  (relu): ReLU()\n",
       ")"
      ]
     },
     "execution_count": 20,
     "metadata": {},
     "output_type": "execute_result"
    }
   ],
   "source": [
    "# Load models globally at app startup\n",
    "resnet = models.resnet152(weights='ResNet152_Weights.DEFAULT')\n",
    "feature_extractor = nn.Sequential(*list(resnet.children())[:-1]).to(device).eval()\n",
    "\n",
    "# Load classifier model once at the start\n",
    "classifier = NeuralNet().to(device)\n",
    "print(classifier)\n",
    "classifier.load_state_dict(torch.load(classifier_path, map_location=torch.device(device), weights_only=True))\n",
    "classifier.eval()  # Set the classifier model to evaluation mode"
   ]
  },
  {
   "cell_type": "code",
   "execution_count": 21,
   "id": "aa4d5413-9ef1-42f0-af3e-d2c4fdb90895",
   "metadata": {},
   "outputs": [],
   "source": [
    "# MODIFY: Change this is extract features method is changed\n",
    "def extract_features(image_file):\n",
    "    transform = transforms.Compose([\n",
    "        transforms.Resize((256, 256)),\n",
    "        transforms.ToTensor(),\n",
    "        transforms.Normalize(\n",
    "            mean=[0.485, 0.456, 0.406],\n",
    "            std=[0.229, 0.224, 0.225]\n",
    "        )\n",
    "    ])\n",
    "    img = Image.open(image_file).convert('RGB')\n",
    "    img_tensor = transform(img).unsqueeze(0).to(device)\n",
    "    with torch.no_grad():\n",
    "        features = feature_extractor(img_tensor)\n",
    "        features = features.view(features.size(0), -1)\n",
    "    return features.cpu().numpy()"
   ]
  },
  {
   "cell_type": "code",
   "execution_count": 22,
   "id": "38a92e7c-9da4-4093-bc46-d5bb5b31469f",
   "metadata": {},
   "outputs": [],
   "source": [
    "def classify_image(features):\n",
    "    features_tensor = torch.tensor(features).to(device)\n",
    "    with torch.no_grad():\n",
    "        output = classifier(features_tensor)\n",
    "        probabilities = F.softmax(output, dim=1)\n",
    "        top_classes, top_index = torch.topk(probabilities, topx)\n",
    "    return top_index.cpu().numpy()[0], top_classes.cpu().numpy()[0]"
   ]
  },
  {
   "cell_type": "code",
   "execution_count": 26,
   "id": "6f35d40e-4dd7-4704-a1b8-3609b9554abd",
   "metadata": {},
   "outputs": [
    {
     "name": "stdout",
     "output_type": "stream",
     "text": [
      "top_1:\n",
      "    class: Expressionism\n",
      "    score: 0.9999767541885376\n",
      "top_2:\n",
      "    class: Art_Nouveau_Modern\n",
      "    score: 2.3148590116761625e-05\n"
     ]
    }
   ],
   "source": [
    "def runMain(image_file):\n",
    "    features = extract_features(image_file)\n",
    "    # Get the top x predicted classes\n",
    "    top_indices, top_classes = classify_image(features)\n",
    "\n",
    "    # Dynamically create a dictionary for top_x results\n",
    "    predictions = {}\n",
    "    for i in range(topx):\n",
    "        predictions[f'top_{i+1}'] = {\n",
    "            'class': classes[top_indices[i]],\n",
    "            'score': float(top_classes[i])\n",
    "        }\n",
    "    return predictions\n",
    "\n",
    "file = 'image.jpg'\n",
    "prediction = runMain(image_file=file)\n",
    "# Pretty print without using json\n",
    "for key, value in prediction.items():\n",
    "    print(f\"{key}:\")\n",
    "    for sub_key, sub_value in value.items():\n",
    "        print(f\"    {sub_key}: {sub_value}\")"
   ]
  },
  {
   "cell_type": "code",
   "execution_count": null,
   "id": "428f23ad-ab57-45e5-aa56-e1d1c1f939bb",
   "metadata": {},
   "outputs": [],
   "source": []
  }
 ],
 "metadata": {
  "kernelspec": {
   "display_name": "anaconda_env",
   "language": "python",
   "name": "anaconda_env"
  },
  "language_info": {
   "codemirror_mode": {
    "name": "ipython",
    "version": 3
   },
   "file_extension": ".py",
   "mimetype": "text/x-python",
   "name": "python",
   "nbconvert_exporter": "python",
   "pygments_lexer": "ipython3",
   "version": "3.11.10"
  }
 },
 "nbformat": 4,
 "nbformat_minor": 5
}
